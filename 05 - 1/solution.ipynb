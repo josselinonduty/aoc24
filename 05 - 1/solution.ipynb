{
 "cells": [
  {
   "cell_type": "code",
   "execution_count": 36,
   "metadata": {},
   "outputs": [],
   "source": [
    "constraints = []\n",
    "updates = []\n",
    "\n",
    "with open(\"input.txt\") as f:\n",
    "    isConstraints = True\n",
    "\n",
    "    for line in f:\n",
    "        line = line.strip()\n",
    "\n",
    "        if line == \"\":\n",
    "            isConstraints = False\n",
    "            continue\n",
    "\n",
    "        if isConstraints:\n",
    "            left, right = tuple(line.split(\"|\"))\n",
    "            constraints.append((int(left), int(right)))\n",
    "        else:\n",
    "            items = line.split(\",\")\n",
    "            updates.append([int(i) for i in items])"
   ]
  },
  {
   "cell_type": "code",
   "execution_count": 37,
   "metadata": {},
   "outputs": [],
   "source": [
    "valid = []\n",
    "invalid = []\n",
    "\n",
    "for update in updates:\n",
    "    ok = True\n",
    "    for constraint in constraints:\n",
    "        if constraint[0] in update and constraint[1] in update:\n",
    "            if update.index(constraint[0]) >= update.index(constraint[1]):\n",
    "                ok = False\n",
    "                break\n",
    "\n",
    "    if ok:\n",
    "        valid.append(update)\n",
    "    else:\n",
    "        invalid.append(update)"
   ]
  },
  {
   "cell_type": "code",
   "execution_count": 38,
   "metadata": {},
   "outputs": [
    {
     "name": "stdout",
     "output_type": "stream",
     "text": [
      "Solution: 6612\n"
     ]
    }
   ],
   "source": [
    "middle_sum = 0\n",
    "for update in valid:\n",
    "    middle_sum += update[len(update) // 2]\n",
    "\n",
    "print(f\"Solution: {middle_sum}\")"
   ]
  }
 ],
 "metadata": {
  "kernelspec": {
   "display_name": "base",
   "language": "python",
   "name": "python3"
  },
  "language_info": {
   "codemirror_mode": {
    "name": "ipython",
    "version": 3
   },
   "file_extension": ".py",
   "mimetype": "text/x-python",
   "name": "python",
   "nbconvert_exporter": "python",
   "pygments_lexer": "ipython3",
   "version": "3.12.2"
  }
 },
 "nbformat": 4,
 "nbformat_minor": 2
}
