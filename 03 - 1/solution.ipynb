{
 "cells": [
  {
   "cell_type": "code",
   "execution_count": 52,
   "metadata": {},
   "outputs": [
    {
     "name": "stdout",
     "output_type": "stream",
     "text": [
      "Length: 18846\n"
     ]
    }
   ],
   "source": [
    "text = \"\"\n",
    "with open(\"input.txt\") as f:\n",
    "    text = f.read()\n",
    "\n",
    "print(f\"Length: {len(text)}\")"
   ]
  },
  {
   "cell_type": "code",
   "execution_count": 53,
   "metadata": {},
   "outputs": [],
   "source": [
    "pos = 0\n",
    "\n",
    "mul = \"\"\n",
    "left_parenthesis = False\n",
    "operand_left = \"\"\n",
    "comma = False\n",
    "operand_right = \"\"\n",
    "right_parenthesis = False\n",
    "\n",
    "solution_parts = []\n",
    "\n",
    "while pos < len(text):\n",
    "    if not text[pos] in \"mul(),0123456789\":\n",
    "        pos += 1\n",
    "        mul = \"\"\n",
    "        left_parenthesis = False\n",
    "        operand_left = \"\"\n",
    "        comma = False\n",
    "        operand_right = \"\"\n",
    "        right_parenthesis = False\n",
    "        continue\n",
    "\n",
    "    if text[pos] == \"m\":\n",
    "        mul = text[pos]\n",
    "        pos += 1\n",
    "        continue\n",
    "\n",
    "    if text[pos] == \"u\":\n",
    "        mul += text[pos]\n",
    "        pos += 1\n",
    "        continue\n",
    "\n",
    "    if text[pos] == \"l\":\n",
    "        mul += text[pos]\n",
    "        pos += 1\n",
    "        continue\n",
    "\n",
    "    if mul == \"mul\":\n",
    "        if text[pos] == \"(\":\n",
    "            pos += 1\n",
    "            left_parenthesis = True\n",
    "            continue\n",
    "\n",
    "        if text[pos] == \",\":\n",
    "            pos += 1\n",
    "            comma = True\n",
    "            continue\n",
    "\n",
    "        if text[pos] == \")\":\n",
    "            pos += 1\n",
    "            right_parenthesis = True\n",
    "\n",
    "            if left_parenthesis and right_parenthesis:\n",
    "                solution_parts.append((int(operand_left), int(operand_right)))\n",
    "                mul = \"\"\n",
    "                left_parenthesis = False\n",
    "                operand_left = \"\"\n",
    "                comma = False\n",
    "                operand_right = \"\"\n",
    "                right_parenthesis = False\n",
    "            continue\n",
    "\n",
    "        if text[pos] in \"0123456789\":\n",
    "            if not comma:\n",
    "                operand_left += text[pos]\n",
    "            else:\n",
    "                operand_right += text[pos]\n",
    "            pos += 1\n",
    "            continue\n",
    "\n",
    "    pos += 1"
   ]
  },
  {
   "cell_type": "code",
   "execution_count": 54,
   "metadata": {},
   "outputs": [
    {
     "name": "stdout",
     "output_type": "stream",
     "text": [
      "Solution: 180233229\n"
     ]
    }
   ],
   "source": [
    "solution = 0\n",
    "for pair in solution_parts:\n",
    "    solution += pair[0] * pair[1]\n",
    "\n",
    "print(f\"Solution: {solution}\")"
   ]
  }
 ],
 "metadata": {
  "kernelspec": {
   "display_name": "base",
   "language": "python",
   "name": "python3"
  },
  "language_info": {
   "codemirror_mode": {
    "name": "ipython",
    "version": 3
   },
   "file_extension": ".py",
   "mimetype": "text/x-python",
   "name": "python",
   "nbconvert_exporter": "python",
   "pygments_lexer": "ipython3",
   "version": "3.12.2"
  }
 },
 "nbformat": 4,
 "nbformat_minor": 2
}
