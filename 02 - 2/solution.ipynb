{
 "cells": [
  {
   "cell_type": "code",
   "execution_count": 27,
   "metadata": {},
   "outputs": [],
   "source": [
    "import numpy as np"
   ]
  },
  {
   "cell_type": "code",
   "execution_count": null,
   "metadata": {},
   "outputs": [
    {
     "name": "stdout",
     "output_type": "stream",
     "text": [
      "Safe: 536\n"
     ]
    }
   ],
   "source": [
    "num_safe = 0\n",
    "\n",
    "with open(\"input.txt\", \"r\") as f:\n",
    "    data = f.readlines()\n",
    "\n",
    "    for line in data:\n",
    "        line = line.strip()\n",
    "        levels = np.array(line.split(\" \"), dtype=int)\n",
    "\n",
    "        diffs = np.diff(levels)\n",
    "        if not np.all(np.logical_and(diffs >= 1, diffs <= 3)) and not np.all(\n",
    "            np.logical_and(diffs <= -1, diffs >= -3)\n",
    "        ):\n",
    "            \"\"\"\n",
    "            My first idea and attempts where using the same conditions.\n",
    "\n",
    "            Instead of checking if every difference was valid, I wanted to count\n",
    "            the number of differences that were invalid. If the number of invalid\n",
    "            differences was not null, then I could try to remove the first invalid\n",
    "            element and check if made the differences valid. If not, I would try\n",
    "            to remove the next invalid element and so on.\n",
    "\n",
    "            I also had to try to remove the first and the last elements, as they\n",
    "            can be the source of the invalid difference.\n",
    "\n",
    "            In the end, the logic was getting too complex and I decided to try\n",
    "            another simpler approach. I try to remove each element and check if\n",
    "            it makes the differences valid. It is a brute force approach.\n",
    "            \"\"\"\n",
    "\n",
    "            for i in range(len(levels)):\n",
    "                levels_no_error = np.delete(levels.copy(), i)\n",
    "\n",
    "                diffs_no_error = np.diff(levels_no_error)\n",
    "                if not np.all(\n",
    "                    np.logical_and(diffs_no_error >= 1, diffs_no_error <= 3)\n",
    "                ) and not np.all(\n",
    "                    np.logical_and(diffs_no_error <= -1, diffs_no_error >= -3)\n",
    "                ):\n",
    "                    continue\n",
    "\n",
    "                num_safe += 1\n",
    "                break\n",
    "            continue\n",
    "\n",
    "        num_safe += 1\n",
    "\n",
    "print(f\"Safe: {num_safe}\")"
   ]
  }
 ],
 "metadata": {
  "kernelspec": {
   "display_name": "base",
   "language": "python",
   "name": "python3"
  },
  "language_info": {
   "codemirror_mode": {
    "name": "ipython",
    "version": 3
   },
   "file_extension": ".py",
   "mimetype": "text/x-python",
   "name": "python",
   "nbconvert_exporter": "python",
   "pygments_lexer": "ipython3",
   "version": "3.12.2"
  }
 },
 "nbformat": 4,
 "nbformat_minor": 2
}
