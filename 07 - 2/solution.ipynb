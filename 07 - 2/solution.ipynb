{
 "cells": [
  {
   "cell_type": "code",
   "execution_count": 1,
   "metadata": {},
   "outputs": [],
   "source": [
    "inputs = []\n",
    "\n",
    "with open(\"input.txt\") as f:\n",
    "    for line in f:\n",
    "        inputs.append([int(item.replace(\":\", \"\")) for item in line.strip().split()])"
   ]
  },
  {
   "cell_type": "code",
   "execution_count": 2,
   "metadata": {},
   "outputs": [],
   "source": [
    "def is_valid(target, operands, current=0):\n",
    "    n = len(operands)\n",
    "\n",
    "    if n == 1:\n",
    "        return (\n",
    "            target == current + operands[0]\n",
    "            or (target == current * operands[0] if current != 0 else operands[0])\n",
    "            or (\n",
    "                target == int(str(current) + str(operands[0]))\n",
    "                if current != 0\n",
    "                else operands[0]\n",
    "            )\n",
    "        )\n",
    "\n",
    "    return (\n",
    "        is_valid(target, operands[1:], current=current + operands[0])\n",
    "        or is_valid(\n",
    "            target,\n",
    "            operands[1:],\n",
    "            current=current * operands[0] if current != 0 else operands[0],\n",
    "        )\n",
    "        or is_valid(\n",
    "            target,\n",
    "            operands[1:],\n",
    "            current=(\n",
    "                int(str(current) + str(operands[0])) if current != 0 else operands[0]\n",
    "            ),\n",
    "        )\n",
    "    )"
   ]
  },
  {
   "cell_type": "code",
   "execution_count": 3,
   "metadata": {},
   "outputs": [],
   "source": [
    "valid_inputs = []\n",
    "\n",
    "for input in inputs:\n",
    "    if is_valid(input[0], input[1:], 0):\n",
    "        valid_inputs.append(input)"
   ]
  },
  {
   "cell_type": "code",
   "execution_count": 4,
   "metadata": {},
   "outputs": [
    {
     "name": "stdout",
     "output_type": "stream",
     "text": [
      "Solution: 348360680516005\n"
     ]
    }
   ],
   "source": [
    "sum_valid_inputs = 0\n",
    "for valid_input in valid_inputs:\n",
    "    sum_valid_inputs += valid_input[0]\n",
    "\n",
    "print(f\"Solution: {sum_valid_inputs}\")"
   ]
  }
 ],
 "metadata": {
  "kernelspec": {
   "display_name": "base",
   "language": "python",
   "name": "python3"
  },
  "language_info": {
   "codemirror_mode": {
    "name": "ipython",
    "version": 3
   },
   "file_extension": ".py",
   "mimetype": "text/x-python",
   "name": "python",
   "nbconvert_exporter": "python",
   "pygments_lexer": "ipython3",
   "version": "3.12.2"
  }
 },
 "nbformat": 4,
 "nbformat_minor": 2
}
