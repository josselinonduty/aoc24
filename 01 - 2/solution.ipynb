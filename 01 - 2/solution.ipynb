{
 "cells": [
  {
   "cell_type": "code",
   "execution_count": 20,
   "metadata": {},
   "outputs": [],
   "source": [
    "import numpy as np"
   ]
  },
  {
   "cell_type": "code",
   "execution_count": 21,
   "metadata": {},
   "outputs": [],
   "source": [
    "data = np.genfromtxt(\"input.txt\", delimiter=\"   \", dtype=int)\n",
    "l1 = data[:, 0]\n",
    "l2 = data[:, 1]"
   ]
  },
  {
   "cell_type": "code",
   "execution_count": 22,
   "metadata": {},
   "outputs": [
    {
     "name": "stdout",
     "output_type": "stream",
     "text": [
      "Score: 22539317\n"
     ]
    }
   ],
   "source": [
    "mod, freq = np.unique(l2, return_counts=True)\n",
    "\n",
    "score = 0\n",
    "for n in l1:\n",
    "    if n in mod:\n",
    "        score += n * freq[np.where(mod == n)][0]\n",
    "\n",
    "print(f\"Score: {score}\")"
   ]
  }
 ],
 "metadata": {
  "kernelspec": {
   "display_name": "base",
   "language": "python",
   "name": "python3"
  },
  "language_info": {
   "codemirror_mode": {
    "name": "ipython",
    "version": 3
   },
   "file_extension": ".py",
   "mimetype": "text/x-python",
   "name": "python",
   "nbconvert_exporter": "python",
   "pygments_lexer": "ipython3",
   "version": "3.12.2"
  }
 },
 "nbformat": 4,
 "nbformat_minor": 2
}
