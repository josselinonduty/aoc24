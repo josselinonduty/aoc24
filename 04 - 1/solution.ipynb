{
 "cells": [
  {
   "cell_type": "code",
   "execution_count": null,
   "metadata": {},
   "outputs": [],
   "source": [
    "import numpy as np"
   ]
  },
  {
   "cell_type": "code",
   "execution_count": null,
   "metadata": {},
   "outputs": [],
   "source": [
    "REF = \"XMAS\"\n",
    "\n",
    "\n",
    "def encode(c):\n",
    "    return REF.index(c)\n",
    "\n",
    "\n",
    "def decode(i):\n",
    "    return REF[i]"
   ]
  },
  {
   "cell_type": "code",
   "execution_count": null,
   "metadata": {},
   "outputs": [],
   "source": [
    "text = np.array([], dtype=str)\n",
    "with open(\"input.txt\") as f:\n",
    "    for line in f:\n",
    "        text = np.append(text, line.strip())\n",
    "\n",
    "n = len(text)\n",
    "p = len(text[0])\n",
    "\n",
    "grid = np.zeros((n, p), dtype=int)\n",
    "for i in range(n):\n",
    "    for j in range(p):\n",
    "        grid[i, j] = encode(text[i][j])"
   ]
  },
  {
   "cell_type": "code",
   "execution_count": null,
   "metadata": {},
   "outputs": [],
   "source": [
    "mask = np.array([0, 1, 2, 3], dtype=int)\n",
    "mask_len = len(mask)\n",
    "\n",
    "num = 0\n",
    "\n",
    "for row in range(n):\n",
    "    for col in range(p - 3):\n",
    "        if np.array_equal(grid[row, col : col + mask_len], mask) or np.array_equal(\n",
    "            grid[row, col : col + mask_len], mask[::-1]\n",
    "        ):\n",
    "            num += 1\n",
    "\n",
    "for col in range(p):\n",
    "    for row in range(n - 3):\n",
    "        if np.array_equal(grid[row : row + mask_len, col], mask) or np.array_equal(\n",
    "            grid[row : row + mask_len, col], mask[::-1]\n",
    "        ):\n",
    "            num += 1\n",
    "\n",
    "for row in range(n - 3):\n",
    "    for col in range(p - 3):\n",
    "        if np.array_equal(\n",
    "            [\n",
    "                grid[row, col],\n",
    "                grid[row + 1, col + 1],\n",
    "                grid[row + 2, col + 2],\n",
    "                grid[row + 3, col + 3],\n",
    "            ],\n",
    "            mask,\n",
    "        ) or np.array_equal(\n",
    "            [\n",
    "                grid[row, col],\n",
    "                grid[row + 1, col + 1],\n",
    "                grid[row + 2, col + 2],\n",
    "                grid[row + 3, col + 3],\n",
    "            ],\n",
    "            mask[::-1],\n",
    "        ):\n",
    "            num += 1\n",
    "\n",
    "for row in range(n - 3):\n",
    "    for col in range(p - 3):\n",
    "        if np.array_equal(\n",
    "            [\n",
    "                grid[row, col + 3],\n",
    "                grid[row + 1, col + 2],\n",
    "                grid[row + 2, col + 1],\n",
    "                grid[row + 3, col],\n",
    "            ],\n",
    "            mask,\n",
    "        ) or np.array_equal(\n",
    "            [\n",
    "                grid[row, col + 3],\n",
    "                grid[row + 1, col + 2],\n",
    "                grid[row + 2, col + 1],\n",
    "                grid[row + 3, col],\n",
    "            ],\n",
    "            mask[::-1],\n",
    "        ):\n",
    "            num += 1\n",
    "\n",
    "print(f\"Solution: {num}\")"
   ]
  }
 ],
 "metadata": {
  "kernelspec": {
   "display_name": "base",
   "language": "python",
   "name": "python3"
  },
  "language_info": {
   "codemirror_mode": {
    "name": "ipython",
    "version": 3
   },
   "file_extension": ".py",
   "mimetype": "text/x-python",
   "name": "python",
   "nbconvert_exporter": "python",
   "pygments_lexer": "ipython3",
   "version": "3.12.2"
  }
 },
 "nbformat": 4,
 "nbformat_minor": 2
}
