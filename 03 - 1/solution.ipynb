{
 "cells": [
  {
   "cell_type": "code",
   "execution_count": null,
   "metadata": {},
   "outputs": [],
   "source": [
    "text = \"\"\n",
    "with open(\"input.txt\") as f:\n",
    "    text = f.read()\n",
    "\n",
    "print(f\"Length: {len(text)}\")"
   ]
  },
  {
   "cell_type": "code",
   "execution_count": null,
   "metadata": {},
   "outputs": [],
   "source": [
    "ALLOWED_KEYWORDS = [\"mul\"]\n",
    "\n",
    "\n",
    "def is_buffer_allowed(buffer):\n",
    "    \"\"\"Checks if one of the allowed keywords starts with the buffer\"\"\"\n",
    "    return any([keyword.startswith(buffer) for keyword in ALLOWED_KEYWORDS])\n",
    "\n",
    "\n",
    "def is_keyword(buffer):\n",
    "    return buffer in ALLOWED_KEYWORDS\n",
    "\n",
    "\n",
    "buffer = \"\"\n",
    "mult = False\n",
    "\n",
    "solution_parts = []\n",
    "\n",
    "for i in range(len(text)):\n",
    "    if not mult:\n",
    "        buffer += text[i]\n",
    "    else:\n",
    "        if text[i] not in \"0123456789(),\":\n",
    "            buffer = \"\"\n",
    "            mult = False\n",
    "            continue\n",
    "\n",
    "        if len(buffer) == 0 and text[i] == \"(\":\n",
    "            buffer = \"*\"\n",
    "            continue\n",
    "\n",
    "        if len(buffer) == 0:\n",
    "            buffer = \"\"\n",
    "            mult = False\n",
    "            continue\n",
    "\n",
    "        if text[i] == \")\":\n",
    "            mult = False\n",
    "\n",
    "            operands = buffer.split(\",\")\n",
    "            solution_parts.append((int(operands[0]), int(operands[1])))\n",
    "\n",
    "            buffer = \"\"\n",
    "            continue\n",
    "\n",
    "        if buffer == \"*\":\n",
    "            buffer = text[i]\n",
    "        else:\n",
    "            buffer += text[i]\n",
    "        continue\n",
    "\n",
    "    if is_buffer_allowed(buffer):\n",
    "        if is_keyword(buffer):\n",
    "            keyword = buffer\n",
    "            buffer = \"\"\n",
    "            mult = True\n",
    "    else:\n",
    "        buffer = \"\""
   ]
  },
  {
   "cell_type": "code",
   "execution_count": null,
   "metadata": {},
   "outputs": [],
   "source": [
    "solution = 0\n",
    "for pair in solution_parts:\n",
    "    solution += pair[0] * pair[1]\n",
    "\n",
    "print(f\"Solution: {solution}\")"
   ]
  }
 ],
 "metadata": {
  "kernelspec": {
   "display_name": "base",
   "language": "python",
   "name": "python3"
  },
  "language_info": {
   "codemirror_mode": {
    "name": "ipython",
    "version": 3
   },
   "file_extension": ".py",
   "mimetype": "text/x-python",
   "name": "python",
   "nbconvert_exporter": "python",
   "pygments_lexer": "ipython3",
   "version": "3.12.2"
  }
 },
 "nbformat": 4,
 "nbformat_minor": 2
}
