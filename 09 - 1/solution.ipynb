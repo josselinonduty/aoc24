{
 "cells": [
  {
   "cell_type": "code",
   "execution_count": 1,
   "metadata": {},
   "outputs": [],
   "source": [
    "input = []\n",
    "\n",
    "with open(\"input.txt\") as f:\n",
    "    input = [int(c) for c in f.readline().strip()]"
   ]
  },
  {
   "cell_type": "code",
   "execution_count": 2,
   "metadata": {},
   "outputs": [
    {
     "name": "stdout",
     "output_type": "stream",
     "text": [
      "Length: 95482\n"
     ]
    }
   ],
   "source": [
    "disk = []\n",
    "\n",
    "for i, num in enumerate(input):\n",
    "    if i % 2 == 0:\n",
    "        for _ in range(num):\n",
    "            disk.append(i // 2)\n",
    "    else:\n",
    "        for _ in range(num):\n",
    "            disk.append(None)\n",
    "\n",
    "print(f\"Length: {len(disk)}\")"
   ]
  },
  {
   "cell_type": "code",
   "execution_count": 3,
   "metadata": {},
   "outputs": [],
   "source": [
    "first_empty = 0\n",
    "\n",
    "\n",
    "def get_first_empty():\n",
    "    try:\n",
    "        return disk.index(None, first_empty)\n",
    "    except:\n",
    "        return -1\n",
    "\n",
    "\n",
    "while (first_empty := get_first_empty()) >= 0:\n",
    "    fill_at = first_empty\n",
    "    fill_from = disk[-1]\n",
    "\n",
    "    if fill_from == None:\n",
    "        disk = disk[:-1]\n",
    "        continue\n",
    "\n",
    "    disk[fill_at] = fill_from\n",
    "    disk = disk[:-1]"
   ]
  },
  {
   "cell_type": "code",
   "execution_count": 4,
   "metadata": {},
   "outputs": [
    {
     "name": "stdout",
     "output_type": "stream",
     "text": [
      "Solution: 6432869891895\n"
     ]
    }
   ],
   "source": [
    "result = 0\n",
    "for k, v in enumerate(disk):\n",
    "    result += k * v\n",
    "\n",
    "print(f\"Solution: {result}\")"
   ]
  }
 ],
 "metadata": {
  "kernelspec": {
   "display_name": "base",
   "language": "python",
   "name": "python3"
  },
  "language_info": {
   "codemirror_mode": {
    "name": "ipython",
    "version": 3
   },
   "file_extension": ".py",
   "mimetype": "text/x-python",
   "name": "python",
   "nbconvert_exporter": "python",
   "pygments_lexer": "ipython3",
   "version": "3.12.2"
  }
 },
 "nbformat": 4,
 "nbformat_minor": 2
}
