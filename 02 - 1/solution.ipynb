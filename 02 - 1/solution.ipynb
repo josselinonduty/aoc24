{
 "cells": [
  {
   "cell_type": "code",
   "execution_count": 2,
   "metadata": {},
   "outputs": [],
   "source": [
    "import numpy as np"
   ]
  },
  {
   "cell_type": "code",
   "execution_count": 73,
   "metadata": {},
   "outputs": [
    {
     "name": "stdout",
     "output_type": "stream",
     "text": [
      "Safe: 490\n"
     ]
    }
   ],
   "source": [
    "num_safe = 0\n",
    "\n",
    "with open(\"input.txt\", \"r\") as f:\n",
    "    data = f.readlines()\n",
    "\n",
    "    for line in data:\n",
    "        line = line.strip()\n",
    "        levels = np.array(line.split(\" \"), dtype=int)\n",
    "\n",
    "        diffs = np.diff(levels)\n",
    "        if not np.all(np.logical_and(diffs >= 1, diffs <= 3)) and not np.all(\n",
    "            np.logical_and(diffs <= -1, diffs >= -3)\n",
    "        ):\n",
    "            continue\n",
    "\n",
    "        num_safe += 1\n",
    "\n",
    "print(f\"Safe: {num_safe}\")"
   ]
  }
 ],
 "metadata": {
  "kernelspec": {
   "display_name": "base",
   "language": "python",
   "name": "python3"
  },
  "language_info": {
   "codemirror_mode": {
    "name": "ipython",
    "version": 3
   },
   "file_extension": ".py",
   "mimetype": "text/x-python",
   "name": "python",
   "nbconvert_exporter": "python",
   "pygments_lexer": "ipython3",
   "version": "3.12.2"
  }
 },
 "nbformat": 4,
 "nbformat_minor": 2
}
