{
 "cells": [
  {
   "cell_type": "code",
   "execution_count": 1,
   "metadata": {},
   "outputs": [],
   "source": [
    "inputs = []\n",
    "\n",
    "with open(\"input.txt\") as f:\n",
    "    for line in f:\n",
    "        inputs.append(list(line.strip()))\n",
    "\n",
    "n = len(inputs)\n",
    "p = len(inputs[0])"
   ]
  },
  {
   "cell_type": "code",
   "execution_count": 2,
   "metadata": {},
   "outputs": [],
   "source": [
    "frequencies = set()\n",
    "for input in inputs:\n",
    "    for char in input:\n",
    "        frequencies.add(char)\n",
    "frequencies.remove(\".\")"
   ]
  },
  {
   "cell_type": "code",
   "execution_count": 3,
   "metadata": {},
   "outputs": [],
   "source": [
    "antennas = {f: [] for f in frequencies}\n",
    "\n",
    "for row in range(len(inputs)):\n",
    "    for col in range(len(inputs[row])):\n",
    "        cell = inputs[row][col]\n",
    "        if cell in antennas:\n",
    "            antennas[cell].append((row, col))"
   ]
  },
  {
   "cell_type": "code",
   "execution_count": 4,
   "metadata": {},
   "outputs": [
    {
     "name": "stdout",
     "output_type": "stream",
     "text": [
      "Solution: 295\n"
     ]
    }
   ],
   "source": [
    "antinodes = set()\n",
    "\n",
    "for antenna_group in antennas:\n",
    "    group = antennas[antenna_group]\n",
    "    for a1 in group:\n",
    "        for a2 in group:\n",
    "            if a1 == a2:\n",
    "                continue\n",
    "\n",
    "            dx = a1[0] - a2[0]\n",
    "            dy = a1[1] - a2[1]\n",
    "\n",
    "            if 0 <= a1[0] + dx < n and 0 <= a1[1] + dy < p:\n",
    "                antinodes.add((a1[0] + dx, a1[1] + dy))\n",
    "\n",
    "            if 0 <= a2[0] - dx < n and 0 <= a2[1] - dy < p:\n",
    "                antinodes.add((a2[0] - dx, a2[1] - dy))\n",
    "\n",
    "print(f\"Solution: {len(antinodes)}\")"
   ]
  }
 ],
 "metadata": {
  "kernelspec": {
   "display_name": "base",
   "language": "python",
   "name": "python3"
  },
  "language_info": {
   "codemirror_mode": {
    "name": "ipython",
    "version": 3
   },
   "file_extension": ".py",
   "mimetype": "text/x-python",
   "name": "python",
   "nbconvert_exporter": "python",
   "pygments_lexer": "ipython3",
   "version": "3.12.2"
  }
 },
 "nbformat": 4,
 "nbformat_minor": 2
}
