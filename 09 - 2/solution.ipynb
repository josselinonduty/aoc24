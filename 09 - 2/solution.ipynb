{
 "cells": [
  {
   "cell_type": "code",
   "execution_count": 1,
   "metadata": {},
   "outputs": [],
   "source": [
    "input = []\n",
    "\n",
    "with open(\"input.txt\") as f:\n",
    "    input = [int(c) for c in f.readline().strip()]"
   ]
  },
  {
   "cell_type": "code",
   "execution_count": 2,
   "metadata": {},
   "outputs": [],
   "source": [
    "disk = []\n",
    "\n",
    "for i, num in enumerate(input):\n",
    "    if i % 2 == 0:\n",
    "        disk.append([\"block\", num, i // 2])\n",
    "    else:\n",
    "        disk.append([\"space\", num, None])"
   ]
  },
  {
   "cell_type": "code",
   "execution_count": 3,
   "metadata": {},
   "outputs": [],
   "source": [
    "def print_disk():\n",
    "    for span in disk:\n",
    "        if span[0] == \"block\":\n",
    "            for _ in range(span[1]):\n",
    "                print(span[2], end=\"\")\n",
    "        else:\n",
    "            for _ in range(span[1]):\n",
    "                print(\".\", end=\"\")\n",
    "    print()"
   ]
  },
  {
   "cell_type": "code",
   "execution_count": 4,
   "metadata": {},
   "outputs": [],
   "source": [
    "def find_id_space_fitting(n, end):\n",
    "    for i in range(end):\n",
    "        span = disk[i]\n",
    "        if span[0] == \"space\":\n",
    "            if span[1] >= n:\n",
    "                return i\n",
    "    return -1\n",
    "\n",
    "\n",
    "def has_block_after(start):\n",
    "    for i in range(start, len(disk)):\n",
    "        if disk[i][0] == \"block\":\n",
    "            return True\n",
    "    return False\n",
    "\n",
    "\n",
    "i = len(disk)\n",
    "while i > 0:\n",
    "    i -= 1\n",
    "\n",
    "    span = disk[i].copy()\n",
    "    if span[0] != \"block\":\n",
    "        continue\n",
    "\n",
    "    id_space = find_id_space_fitting(span[1], i)\n",
    "    if id_space == -1:\n",
    "        continue\n",
    "\n",
    "    disk[id_space][1] -= span[1]\n",
    "\n",
    "    if not has_block_after(i):\n",
    "        disk.pop(i)\n",
    "    else:\n",
    "        disk[i][0] = \"space\"\n",
    "    disk.insert(id_space, span)\n",
    "\n",
    "i = len(disk) - 1\n",
    "while i > 0:\n",
    "    i -= 1\n",
    "    if disk[i][0] == \"space\" and disk[i][1] == 0:\n",
    "        disk.pop(i)"
   ]
  },
  {
   "cell_type": "code",
   "execution_count": 5,
   "metadata": {},
   "outputs": [],
   "source": [
    "def disk_array():\n",
    "    arr = []\n",
    "\n",
    "    for span in disk:\n",
    "        if span[0] == \"block\":\n",
    "            for _ in range(span[1]):\n",
    "                arr.append(span[2])\n",
    "        else:\n",
    "            for _ in range(span[1]):\n",
    "                arr.append(0)\n",
    "    return arr"
   ]
  },
  {
   "cell_type": "code",
   "execution_count": 6,
   "metadata": {},
   "outputs": [
    {
     "name": "stdout",
     "output_type": "stream",
     "text": [
      "Solution: 6467290479134\n"
     ]
    }
   ],
   "source": [
    "result = 0\n",
    "for k, v in enumerate(disk_array()):\n",
    "    result += k * v\n",
    "\n",
    "print(f\"Solution: {result}\")"
   ]
  }
 ],
 "metadata": {
  "kernelspec": {
   "display_name": "base",
   "language": "python",
   "name": "python3"
  },
  "language_info": {
   "codemirror_mode": {
    "name": "ipython",
    "version": 3
   },
   "file_extension": ".py",
   "mimetype": "text/x-python",
   "name": "python",
   "nbconvert_exporter": "python",
   "pygments_lexer": "ipython3",
   "version": "3.12.2"
  }
 },
 "nbformat": 4,
 "nbformat_minor": 2
}
